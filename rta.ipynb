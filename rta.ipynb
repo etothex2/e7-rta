{
 "cells": [
  {
   "cell_type": "markdown",
   "id": "conscious-television",
   "metadata": {},
   "source": [
    "# Imports "
   ]
  },
  {
   "cell_type": "code",
   "execution_count": 1,
   "id": "eleven-parade",
   "metadata": {},
   "outputs": [],
   "source": [
    "import sqlite3\n",
    "import pandas as pd\n",
    "from datetime import datetime"
   ]
  },
  {
   "cell_type": "code",
   "execution_count": 2,
   "id": "charged-travel",
   "metadata": {},
   "outputs": [],
   "source": [
    "DB_FILE = \"rta_snapshot.db\"\n",
    "engine = sqlite3.connect(DB_FILE)"
   ]
  },
  {
   "cell_type": "markdown",
   "id": "lightweight-intensity",
   "metadata": {},
   "source": [
    "# Get Data"
   ]
  },
  {
   "cell_type": "code",
   "execution_count": 3,
   "id": "treated-circumstances",
   "metadata": {},
   "outputs": [],
   "source": [
    "df = pd.read_sql(\"select * from battle_logs\", engine)"
   ]
  },
  {
   "cell_type": "markdown",
   "id": "jewish-powder",
   "metadata": {},
   "source": [
    "# Data Format"
   ]
  },
  {
   "cell_type": "code",
   "execution_count": 4,
   "id": "joint-certificate",
   "metadata": {},
   "outputs": [
    {
     "data": {
      "text/plain": [
       "(58958, 25)"
      ]
     },
     "execution_count": 4,
     "metadata": {},
     "output_type": "execute_result"
    }
   ],
   "source": [
    "# number of records\n",
    "df.shape"
   ]
  },
  {
   "cell_type": "code",
   "execution_count": 5,
   "id": "demonstrated-angola",
   "metadata": {},
   "outputs": [
    {
     "data": {
      "text/plain": [
       "['gold', 'master', 'silver', 'champion', 'challenger', 'bronze', 'legend']"
      ]
     },
     "execution_count": 5,
     "metadata": {},
     "output_type": "execute_result"
    }
   ],
   "source": [
    "# unique leages\n",
    "df[\"P1_LEAGUE\"].unique().tolist()"
   ]
  },
  {
   "cell_type": "code",
   "execution_count": 6,
   "id": "bulgarian-variety",
   "metadata": {},
   "outputs": [],
   "source": [
    "# add win rate + total matches columns\n",
    "\n",
    "cols = [\"P1_WINS\", \"P1_LOSSES\", \"P2_WINS\", \"P2_LOSSES\"]\n",
    "for col in cols:\n",
    "    df[col] = df[col].astype(int)"
   ]
  },
  {
   "cell_type": "code",
   "execution_count": 7,
   "id": "certified-republic",
   "metadata": {},
   "outputs": [],
   "source": [
    "# Add some additional columns that might be useful\n",
    "\n",
    "df[\"P1_MATCHES\"] = df[\"P1_WINS\"] + df[\"P1_LOSSES\"]\n",
    "df[\"P2_MATCHES\"] = df[\"P2_WINS\"] + df[\"P2_LOSSES\"]\n",
    "\n",
    "df[\"P1_WINRATE\"] = df[\"P1_WINS\"] / df[\"P1_MATCHES\"]\n",
    "df[\"P2_WINRATE\"] = df[\"P2_WINS\"] / df[\"P2_MATCHES\"]\n",
    "\n",
    "df[\"WINRATE_DELTA\"] = df[\"P1_WINRATE\"] - df[\"P2_WINRATE\"]\n",
    "df[\"WINRATE_DELTA\"] = df[\"WINRATE_DELTA\"].apply(abs)\n",
    "\n",
    "df[\"CREATED\"] = df[\"CREATED\"].astype(int)\n",
    "df[\"TIME\"] = df[\"CREATED\"].apply(datetime.fromtimestamp)"
   ]
  },
  {
   "cell_type": "markdown",
   "id": "experienced-editing",
   "metadata": {},
   "source": [
    "# Explore Data"
   ]
  },
  {
   "cell_type": "markdown",
   "id": "thousand-miami",
   "metadata": {},
   "source": [
    "### Get Data by League"
   ]
  },
  {
   "cell_type": "code",
   "execution_count": 8,
   "id": "behind-registrar",
   "metadata": {},
   "outputs": [],
   "source": [
    "# filter by league\n",
    "legend_p1 = df[df[\"P1_LEAGUE\"] == \"legend\"]\n",
    "legend_p2 = df[df[\"P2_LEAGUE\"] == \"legend\"]"
   ]
  },
  {
   "cell_type": "code",
   "execution_count": 9,
   "id": "instant-brake",
   "metadata": {},
   "outputs": [
    {
     "data": {
      "text/html": [
       "<div>\n",
       "<style scoped>\n",
       "    .dataframe tbody tr th:only-of-type {\n",
       "        vertical-align: middle;\n",
       "    }\n",
       "\n",
       "    .dataframe tbody tr th {\n",
       "        vertical-align: top;\n",
       "    }\n",
       "\n",
       "    .dataframe thead th {\n",
       "        text-align: right;\n",
       "    }\n",
       "</style>\n",
       "<table border=\"1\" class=\"dataframe\">\n",
       "  <thead>\n",
       "    <tr style=\"text-align: right;\">\n",
       "      <th></th>\n",
       "      <th>CREATED</th>\n",
       "      <th>WIN_LOSE</th>\n",
       "      <th>SCORE</th>\n",
       "      <th>P1_SERVER</th>\n",
       "      <th>P2_SERVER</th>\n",
       "      <th>P1_PREBAN</th>\n",
       "      <th>P2_PREBAN</th>\n",
       "      <th>P1_POSTBAN</th>\n",
       "      <th>P2_POSTBAN</th>\n",
       "      <th>P1_PICK1</th>\n",
       "      <th>...</th>\n",
       "      <th>P1_WINS</th>\n",
       "      <th>P1_LOSSES</th>\n",
       "      <th>P2_WINS</th>\n",
       "      <th>P2_LOSSES</th>\n",
       "      <th>P1_MATCHES</th>\n",
       "      <th>P2_MATCHES</th>\n",
       "      <th>P1_WINRATE</th>\n",
       "      <th>P2_WINRATE</th>\n",
       "      <th>WINRATE_DELTA</th>\n",
       "      <th>TIME</th>\n",
       "    </tr>\n",
       "  </thead>\n",
       "  <tbody>\n",
       "    <tr>\n",
       "      <th>223</th>\n",
       "      <td>1612661691</td>\n",
       "      <td>1</td>\n",
       "      <td>3030</td>\n",
       "      <td>world_global</td>\n",
       "      <td>world_global</td>\n",
       "      <td>Fallen Cecilia</td>\n",
       "      <td>Ambitious Tywin</td>\n",
       "      <td>Ravi</td>\n",
       "      <td>Roana</td>\n",
       "      <td>Last Rider Krau</td>\n",
       "      <td>...</td>\n",
       "      <td>320</td>\n",
       "      <td>204</td>\n",
       "      <td>412</td>\n",
       "      <td>312</td>\n",
       "      <td>524</td>\n",
       "      <td>724</td>\n",
       "      <td>0.610687</td>\n",
       "      <td>0.569061</td>\n",
       "      <td>0.041626</td>\n",
       "      <td>2021-02-06 20:34:51</td>\n",
       "    </tr>\n",
       "    <tr>\n",
       "      <th>224</th>\n",
       "      <td>1612661398</td>\n",
       "      <td>-1</td>\n",
       "      <td>3020</td>\n",
       "      <td>world_global</td>\n",
       "      <td>world_global</td>\n",
       "      <td>Fallen Cecilia</td>\n",
       "      <td>Fairytale Tenebria</td>\n",
       "      <td>Sage Baal &amp; Sezan</td>\n",
       "      <td>Specter Tenebria</td>\n",
       "      <td>Krau</td>\n",
       "      <td>...</td>\n",
       "      <td>319</td>\n",
       "      <td>204</td>\n",
       "      <td>592</td>\n",
       "      <td>345</td>\n",
       "      <td>523</td>\n",
       "      <td>937</td>\n",
       "      <td>0.609943</td>\n",
       "      <td>0.631804</td>\n",
       "      <td>0.021861</td>\n",
       "      <td>2021-02-06 20:29:58</td>\n",
       "    </tr>\n",
       "    <tr>\n",
       "      <th>225</th>\n",
       "      <td>1612653107</td>\n",
       "      <td>1</td>\n",
       "      <td>3029</td>\n",
       "      <td>world_global</td>\n",
       "      <td>world_global</td>\n",
       "      <td>Fallen Cecilia</td>\n",
       "      <td>Fallen Cecilia</td>\n",
       "      <td>Faithless Lidica</td>\n",
       "      <td>Watcher Schuri</td>\n",
       "      <td>Last Rider Krau</td>\n",
       "      <td>...</td>\n",
       "      <td>319</td>\n",
       "      <td>203</td>\n",
       "      <td>1308</td>\n",
       "      <td>1208</td>\n",
       "      <td>522</td>\n",
       "      <td>2516</td>\n",
       "      <td>0.611111</td>\n",
       "      <td>0.519873</td>\n",
       "      <td>0.091238</td>\n",
       "      <td>2021-02-06 18:11:47</td>\n",
       "    </tr>\n",
       "    <tr>\n",
       "      <th>226</th>\n",
       "      <td>1612652690</td>\n",
       "      <td>1</td>\n",
       "      <td>3018</td>\n",
       "      <td>world_global</td>\n",
       "      <td>world_global</td>\n",
       "      <td>Fallen Cecilia</td>\n",
       "      <td>Kluri</td>\n",
       "      <td>Remnant Violet</td>\n",
       "      <td>Basar</td>\n",
       "      <td>Krau</td>\n",
       "      <td>...</td>\n",
       "      <td>318</td>\n",
       "      <td>203</td>\n",
       "      <td>237</td>\n",
       "      <td>188</td>\n",
       "      <td>521</td>\n",
       "      <td>425</td>\n",
       "      <td>0.610365</td>\n",
       "      <td>0.557647</td>\n",
       "      <td>0.052718</td>\n",
       "      <td>2021-02-06 18:04:50</td>\n",
       "    </tr>\n",
       "    <tr>\n",
       "      <th>264</th>\n",
       "      <td>1612722761</td>\n",
       "      <td>1</td>\n",
       "      <td>3127</td>\n",
       "      <td>world_global</td>\n",
       "      <td>world_global</td>\n",
       "      <td>Kluri</td>\n",
       "      <td>Fallen Cecilia</td>\n",
       "      <td>Ravi</td>\n",
       "      <td>Landy</td>\n",
       "      <td>Fairytale Tenebria</td>\n",
       "      <td>...</td>\n",
       "      <td>447</td>\n",
       "      <td>201</td>\n",
       "      <td>291</td>\n",
       "      <td>354</td>\n",
       "      <td>648</td>\n",
       "      <td>645</td>\n",
       "      <td>0.689815</td>\n",
       "      <td>0.451163</td>\n",
       "      <td>0.238652</td>\n",
       "      <td>2021-02-07 13:32:41</td>\n",
       "    </tr>\n",
       "  </tbody>\n",
       "</table>\n",
       "<p>5 rows × 31 columns</p>\n",
       "</div>"
      ],
      "text/plain": [
       "        CREATED WIN_LOSE SCORE     P1_SERVER     P2_SERVER       P1_PREBAN  \\\n",
       "223  1612661691        1  3030  world_global  world_global  Fallen Cecilia   \n",
       "224  1612661398       -1  3020  world_global  world_global  Fallen Cecilia   \n",
       "225  1612653107        1  3029  world_global  world_global  Fallen Cecilia   \n",
       "226  1612652690        1  3018  world_global  world_global  Fallen Cecilia   \n",
       "264  1612722761        1  3127  world_global  world_global           Kluri   \n",
       "\n",
       "              P2_PREBAN         P1_POSTBAN        P2_POSTBAN  \\\n",
       "223     Ambitious Tywin               Ravi             Roana   \n",
       "224  Fairytale Tenebria  Sage Baal & Sezan  Specter Tenebria   \n",
       "225      Fallen Cecilia   Faithless Lidica    Watcher Schuri   \n",
       "226               Kluri     Remnant Violet             Basar   \n",
       "264      Fallen Cecilia               Ravi             Landy   \n",
       "\n",
       "               P1_PICK1  ... P1_WINS P1_LOSSES P2_WINS P2_LOSSES P1_MATCHES  \\\n",
       "223     Last Rider Krau  ...     320       204     412       312        524   \n",
       "224                Krau  ...     319       204     592       345        523   \n",
       "225     Last Rider Krau  ...     319       203    1308      1208        522   \n",
       "226                Krau  ...     318       203     237       188        521   \n",
       "264  Fairytale Tenebria  ...     447       201     291       354        648   \n",
       "\n",
       "    P2_MATCHES P1_WINRATE P2_WINRATE WINRATE_DELTA                TIME  \n",
       "223        724   0.610687   0.569061      0.041626 2021-02-06 20:34:51  \n",
       "224        937   0.609943   0.631804      0.021861 2021-02-06 20:29:58  \n",
       "225       2516   0.611111   0.519873      0.091238 2021-02-06 18:11:47  \n",
       "226        425   0.610365   0.557647      0.052718 2021-02-06 18:04:50  \n",
       "264        645   0.689815   0.451163      0.238652 2021-02-07 13:32:41  \n",
       "\n",
       "[5 rows x 31 columns]"
      ]
     },
     "execution_count": 9,
     "metadata": {},
     "output_type": "execute_result"
    }
   ],
   "source": [
    "legend_p1.head()"
   ]
  },
  {
   "cell_type": "markdown",
   "id": "fallen-organization",
   "metadata": {},
   "source": [
    "### Look at Preban By League"
   ]
  },
  {
   "cell_type": "code",
   "execution_count": 10,
   "id": "divided-bradford",
   "metadata": {},
   "outputs": [],
   "source": [
    "def get_preban_count(df, key):\n",
    "    res= df.groupby(key).count()[[\"CREATED\"]].sort_values(by=\"CREATED\").rename(columns={\"CREATED\" : key.lower()+\"_count\", \"key\": \"unit\"})\n",
    "    return res\n",
    "\n",
    "def get_preban_df(p1_df, p2_df):\n",
    "    prebans = pd.concat([get_preban_count(p1_df, \"P1_PREBAN\"), get_preban_count(p2_df, \"P2_PREBAN\")], axis=1).fillna(0)\n",
    "    prebans[\"total\"] = prebans[\"p1_preban_count\"] + prebans[\"p2_preban_count\"]\n",
    "    prebans.sort_values(\"total\", ascending=False)\n",
    "    return prebans"
   ]
  },
  {
   "cell_type": "code",
   "execution_count": 11,
   "id": "informative-bailey",
   "metadata": {},
   "outputs": [],
   "source": [
    "res = {}\n",
    "# set manually to preserve order\n",
    "leagues = [\"bronze\", \"silver\", \"gold\", \"master\", \"challenger\", \"champion\", \"legend\"]"
   ]
  },
  {
   "cell_type": "code",
   "execution_count": 12,
   "id": "limiting-cathedral",
   "metadata": {},
   "outputs": [],
   "source": [
    "for l in leagues:\n",
    "    p1_df = df[df[\"P1_LEAGUE\"] == l]\n",
    "    p2_df = df[df[\"P2_LEAGUE\"] == l]\n",
    "    final = get_preban_df(p1_df, p2_df)\n",
    "    final.rename(columns={\"total\": f\"{l}_total_count\"}, inplace=True)\n",
    "    res[l] = final"
   ]
  },
  {
   "cell_type": "code",
   "execution_count": 13,
   "id": "modular-distribution",
   "metadata": {},
   "outputs": [],
   "source": [
    "preban_df = pd.concat([res[k].drop([\"p1_preban_count\", \"p2_preban_count\"], axis=1) for k in res.keys()], axis=1)"
   ]
  },
  {
   "cell_type": "code",
   "execution_count": 14,
   "id": "first-method",
   "metadata": {},
   "outputs": [],
   "source": [
    "preban_df = preban_df.fillna(0)"
   ]
  },
  {
   "cell_type": "code",
   "execution_count": 15,
   "id": "former-signal",
   "metadata": {},
   "outputs": [],
   "source": [
    "preban_df[\"total\"] = preban_df.sum(axis=1)"
   ]
  },
  {
   "cell_type": "code",
   "execution_count": 16,
   "id": "legislative-emerald",
   "metadata": {},
   "outputs": [],
   "source": [
    "preban_df = preban_df.sort_values(\"total\", ascending=False)"
   ]
  },
  {
   "cell_type": "code",
   "execution_count": 17,
   "id": "secondary-developer",
   "metadata": {},
   "outputs": [
    {
     "data": {
      "text/html": [
       "<div>\n",
       "<style scoped>\n",
       "    .dataframe tbody tr th:only-of-type {\n",
       "        vertical-align: middle;\n",
       "    }\n",
       "\n",
       "    .dataframe tbody tr th {\n",
       "        vertical-align: top;\n",
       "    }\n",
       "\n",
       "    .dataframe thead th {\n",
       "        text-align: right;\n",
       "    }\n",
       "</style>\n",
       "<table border=\"1\" class=\"dataframe\">\n",
       "  <thead>\n",
       "    <tr style=\"text-align: right;\">\n",
       "      <th></th>\n",
       "      <th>bronze_total_count</th>\n",
       "      <th>silver_total_count</th>\n",
       "      <th>gold_total_count</th>\n",
       "      <th>master_total_count</th>\n",
       "      <th>challenger_total_count</th>\n",
       "      <th>champion_total_count</th>\n",
       "      <th>legend_total_count</th>\n",
       "      <th>total</th>\n",
       "    </tr>\n",
       "  </thead>\n",
       "  <tbody>\n",
       "    <tr>\n",
       "      <th>Arbiter Vildred</th>\n",
       "      <td>2853.0</td>\n",
       "      <td>3557.0</td>\n",
       "      <td>4342.0</td>\n",
       "      <td>2315.0</td>\n",
       "      <td>1383.0</td>\n",
       "      <td>1609.0</td>\n",
       "      <td>50.0</td>\n",
       "      <td>16109.0</td>\n",
       "    </tr>\n",
       "    <tr>\n",
       "      <th>Cerise</th>\n",
       "      <td>845.0</td>\n",
       "      <td>2011.0</td>\n",
       "      <td>4277.0</td>\n",
       "      <td>3289.0</td>\n",
       "      <td>2364.0</td>\n",
       "      <td>2565.0</td>\n",
       "      <td>37.0</td>\n",
       "      <td>15388.0</td>\n",
       "    </tr>\n",
       "    <tr>\n",
       "      <th>Fairytale Tenebria</th>\n",
       "      <td>817.0</td>\n",
       "      <td>1871.0</td>\n",
       "      <td>3999.0</td>\n",
       "      <td>2915.0</td>\n",
       "      <td>2141.0</td>\n",
       "      <td>3345.0</td>\n",
       "      <td>132.0</td>\n",
       "      <td>15220.0</td>\n",
       "    </tr>\n",
       "    <tr>\n",
       "      <th>Fallen Cecilia</th>\n",
       "      <td>1427.0</td>\n",
       "      <td>2037.0</td>\n",
       "      <td>2923.0</td>\n",
       "      <td>1901.0</td>\n",
       "      <td>1406.0</td>\n",
       "      <td>2730.0</td>\n",
       "      <td>212.0</td>\n",
       "      <td>12636.0</td>\n",
       "    </tr>\n",
       "    <tr>\n",
       "      <th>Last Rider Krau</th>\n",
       "      <td>490.0</td>\n",
       "      <td>978.0</td>\n",
       "      <td>2435.0</td>\n",
       "      <td>2043.0</td>\n",
       "      <td>1994.0</td>\n",
       "      <td>2969.0</td>\n",
       "      <td>133.0</td>\n",
       "      <td>11042.0</td>\n",
       "    </tr>\n",
       "  </tbody>\n",
       "</table>\n",
       "</div>"
      ],
      "text/plain": [
       "                    bronze_total_count  silver_total_count  gold_total_count  \\\n",
       "Arbiter Vildred                 2853.0              3557.0            4342.0   \n",
       "Cerise                           845.0              2011.0            4277.0   \n",
       "Fairytale Tenebria               817.0              1871.0            3999.0   \n",
       "Fallen Cecilia                  1427.0              2037.0            2923.0   \n",
       "Last Rider Krau                  490.0               978.0            2435.0   \n",
       "\n",
       "                    master_total_count  challenger_total_count  \\\n",
       "Arbiter Vildred                 2315.0                  1383.0   \n",
       "Cerise                          3289.0                  2364.0   \n",
       "Fairytale Tenebria              2915.0                  2141.0   \n",
       "Fallen Cecilia                  1901.0                  1406.0   \n",
       "Last Rider Krau                 2043.0                  1994.0   \n",
       "\n",
       "                    champion_total_count  legend_total_count    total  \n",
       "Arbiter Vildred                   1609.0                50.0  16109.0  \n",
       "Cerise                            2565.0                37.0  15388.0  \n",
       "Fairytale Tenebria                3345.0               132.0  15220.0  \n",
       "Fallen Cecilia                    2730.0               212.0  12636.0  \n",
       "Last Rider Krau                   2969.0               133.0  11042.0  "
      ]
     },
     "execution_count": 17,
     "metadata": {},
     "output_type": "execute_result"
    }
   ],
   "source": [
    "preban_df.head()"
   ]
  },
  {
   "cell_type": "code",
   "execution_count": 18,
   "id": "welcome-georgia",
   "metadata": {},
   "outputs": [
    {
     "data": {
      "text/plain": [
       "True"
      ]
     },
     "execution_count": 18,
     "metadata": {},
     "output_type": "execute_result"
    }
   ],
   "source": [
    "# validation\n",
    "preban_df[\"total\"].sum() / 2 == df.shape[0]"
   ]
  },
  {
   "cell_type": "code",
   "execution_count": 19,
   "id": "physical-bangkok",
   "metadata": {},
   "outputs": [],
   "source": [
    "preban_df.to_csv(\"preban_by_league.csv\")"
   ]
  },
  {
   "cell_type": "markdown",
   "id": "canadian-temple",
   "metadata": {},
   "source": [
    " "
   ]
  }
 ],
 "metadata": {
  "kernelspec": {
   "display_name": "Python 3",
   "language": "python",
   "name": "python3"
  },
  "language_info": {
   "codemirror_mode": {
    "name": "ipython",
    "version": 3
   },
   "file_extension": ".py",
   "mimetype": "text/x-python",
   "name": "python",
   "nbconvert_exporter": "python",
   "pygments_lexer": "ipython3",
   "version": "3.8.2"
  }
 },
 "nbformat": 4,
 "nbformat_minor": 5
}
